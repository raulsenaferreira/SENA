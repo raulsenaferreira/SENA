{
 "cells": [
  {
   "cell_type": "code",
   "execution_count": 1,
   "id": "66365728",
   "metadata": {},
   "outputs": [],
   "source": [
    "from dataset import Dataset\n",
    "from feature_extractor import FeatureExtractor\n",
    "from monitors_internals import MahalanobisMonitor, GaussianMixtureMonitor, OutsideTheBoxMonitor, MaxSoftmaxProbabilityMonitor,\\\n",
    "                    MaxLogitMonitor, EnergyMonitor, ReActMonitor\n",
    "from monitors_input import SHINE_monitor\n",
    "from evaluation import Evaluator\n",
    "\n",
    "from sklearn.metrics import f1_score, precision_score, recall_score, accuracy_score\n",
    "\n",
    "import numpy as np\n",
    "import matplotlib.pyplot as plt"
   ]
  },
  {
   "cell_type": "code",
   "execution_count": 2,
   "id": "ec2f6e88",
   "metadata": {},
   "outputs": [],
   "source": [
    "batch_size = 10\n",
    "\n",
    "model = \"resnet\"\n",
    "# model = \"densenet\"\n",
    "\n",
    "layers_ids = [2, 5, 8, 12, 15, 19, 22, 26, 29, 32]\n",
    "# layers_ids = [9, 19, 29, 40, 50, 60, 69, 79, 89, 98]\n",
    "\n",
    "id_dataset = \"cifar10\"\n",
    "\n",
    "ood_dataset = \"svhn\"\n",
    "\n",
    "additional_transform = None#\"pixelization\"\n",
    "adversarial_attack = None#\"fgsm\""
   ]
  },
  {
   "cell_type": "code",
   "execution_count": 3,
   "id": "a85c76a2",
   "metadata": {},
   "outputs": [
    {
     "name": "stdout",
     "output_type": "stream",
     "text": [
      "Files already downloaded and verified\n",
      "Files already downloaded and verified\n",
      "Using downloaded and verified file: ./Data/test_32x32.mat\n"
     ]
    }
   ],
   "source": [
    "dataset_train = Dataset(id_dataset, \"train\", model, batch_size=batch_size)\n",
    "dataset_test = Dataset(id_dataset, \"test\", model, batch_size=batch_size)\n",
    "dataset_ood = Dataset(ood_dataset, \"test\", model, additional_transform, adversarial_attack, batch_size=batch_size)"
   ]
  },
  {
   "cell_type": "code",
   "execution_count": 4,
   "id": "6f3ae994",
   "metadata": {},
   "outputs": [],
   "source": [
    "feature_extractor = FeatureExtractor(model, id_dataset, layers_ids)"
   ]
  },
  {
   "cell_type": "code",
   "execution_count": 5,
   "id": "a8344734",
   "metadata": {},
   "outputs": [],
   "source": [
    "features_train, logits_train, softmax_train, pred_train, lab_train = feature_extractor.get_features(dataset_train)\n",
    "features_test, logits_test, softmax_test, pred_test, lab_test = feature_extractor.get_features(dataset_test)\n",
    "features_ood, logits_ood, softmax_ood, pred_ood, lab_ood = feature_extractor.get_features(dataset_ood)"
   ]
  },
  {
   "cell_type": "code",
   "execution_count": null,
   "id": "250c1620",
   "metadata": {},
   "outputs": [],
   "source": []
  },
  {
   "cell_type": "code",
   "execution_count": 7,
   "id": "c2f1c0ac",
   "metadata": {},
   "outputs": [
    {
     "name": "stdout",
     "output_type": "stream",
     "text": [
      "Accuracy\n",
      "ID:   0.9367\n",
      "OOD:  0\n"
     ]
    }
   ],
   "source": [
    "id_accuracy = accuracy_score(lab_test, pred_test)\n",
    "ood_accuracy = 0\n",
    "if id_dataset == ood_dataset:\n",
    "    ood_accuracy = accuracy_score(lab_ood, pred_ood)\n",
    "\n",
    "print(\"Accuracy\")\n",
    "print(\"ID:  \", id_accuracy)\n",
    "print(\"OOD: \", ood_accuracy)"
   ]
  },
  {
   "cell_type": "code",
   "execution_count": 8,
   "id": "e465cc08",
   "metadata": {},
   "outputs": [
    {
     "name": "stdout",
     "output_type": "stream",
     "text": [
      "OMS results for perfect OOD detector\n",
      "Precision   Recall   F1\n",
      "1.0000      0.9763   0.9880\n"
     ]
    }
   ],
   "source": [
    "eval_oms = Evaluator(\"oms\", is_novelty=(id_dataset!=ood_dataset))\n",
    "eval_ood = Evaluator(\"ood\", is_novelty=(id_dataset!=ood_dataset))\n",
    "\n",
    "eval_oms.fit_ground_truth(lab_test, lab_ood, pred_test, pred_ood)\n",
    "eval_ood.fit_ground_truth(lab_test, lab_ood, pred_test, pred_ood)\n",
    "\n",
    "precision_star, recall_star, f1_star = eval_oms.get_metrics(eval_ood.y_true[:lab_test.shape[0]].astype(bool), \n",
    "                                             eval_ood.y_true[lab_test.shape[0]:].astype(bool))\n",
    "\n",
    "print(\"OMS results for perfect OOD detector\")\n",
    "print(\"Precision \", \" Recall \", \" F1\")\n",
    "print(\"{:.4f}\".format(precision_star), \"    \", \"{:.4f}\".format(recall_star), \" \", \"{:.4f}\".format(f1_star))"
   ]
  },
  {
   "cell_type": "code",
   "execution_count": null,
   "id": "ce29e79b",
   "metadata": {},
   "outputs": [],
   "source": []
  },
  {
   "cell_type": "code",
   "execution_count": 9,
   "id": "1fbbd6ca",
   "metadata": {},
   "outputs": [],
   "source": [
    "id_layer_monitored = 3"
   ]
  },
  {
   "cell_type": "code",
   "execution_count": null,
   "id": "0d870180",
   "metadata": {},
   "outputs": [],
   "source": []
  },
  {
   "cell_type": "code",
   "execution_count": 9,
   "id": "d6c15500",
   "metadata": {},
   "outputs": [
    {
     "name": "stdout",
     "output_type": "stream",
     "text": [
      "getting optimal threshold...\n",
      "getting optimal threshold...\n",
      "Mahalanobis\n",
      "        Precision   Recall   F1\n",
      "OOD:    0.9408      0.9567   0.9487\n",
      "OMS:    0.9449      0.9403   0.9426\n"
     ]
    }
   ],
   "source": [
    "monitor_mahalanobis = MahalanobisMonitor(id_dataset, model, id_layer_monitored, is_tied=True)\n",
    "monitor_mahalanobis.fit(features_train[id_layer_monitored], lab_train)\n",
    "\n",
    "scores_test_mahalanobis = monitor_mahalanobis.predict(features_test[id_layer_monitored], pred_test) \n",
    "scores_ood_mahalanobis = monitor_mahalanobis.predict(features_ood[id_layer_monitored], pred_ood) \n",
    "\n",
    "precision_ood_maha, recall_ood_maha, f1_ood_maha = eval_ood.get_metrics(scores_test_mahalanobis, \n",
    "                                                                        scores_ood_mahalanobis)\n",
    "precision_oms_maha, recall_oms_maha, f1_oms_maha = eval_oms.get_metrics(scores_test_mahalanobis, \n",
    "                                                                        scores_ood_mahalanobis)\n",
    "\n",
    "print(\"Mahalanobis\")\n",
    "print(\"       \", \"Precision \", \" Recall \", \" F1\")\n",
    "print(\"OOD:   \", \"{:.4f}\".format(precision_ood_maha), \"    \", \"{:.4f}\".format(recall_ood_maha), \n",
    "      \" \", \"{:.4f}\".format(f1_ood_maha))\n",
    "print(\"OMS:   \", \"{:.4f}\".format(precision_oms_maha), \"    \", \"{:.4f}\".format(recall_oms_maha), \n",
    "      \" \", \"{:.4f}\".format(f1_oms_maha))"
   ]
  },
  {
   "cell_type": "code",
   "execution_count": 7,
   "id": "15e49c74",
   "metadata": {},
   "outputs": [],
   "source": []
  },
  {
   "cell_type": "code",
   "execution_count": 10,
   "id": "0ece5400",
   "metadata": {},
   "outputs": [
    {
     "name": "stderr",
     "output_type": "stream",
     "text": [
      "2022-06-27 18:25:07.966410: W tensorflow/stream_executor/platform/default/dso_loader.cc:64] Could not load dynamic library 'libcudart.so.11.0'; dlerror: libcudart.so.11.0: cannot open shared object file: No such file or directory; LD_LIBRARY_PATH: /home/rsenaferre/anaconda3_new/envs/ANITI_RuntimeMonitoringBenchmark/lib/python3.10/site-packages/cv2/../../lib64:\n",
      "2022-06-27 18:25:07.966427: I tensorflow/stream_executor/cuda/cudart_stub.cc:29] Ignore above cudart dlerror if you do not have a GPU set up on your machine.\n"
     ]
    },
    {
     "name": "stdout",
     "output_type": "stream",
     "text": [
      "x_train shape: (50000, 32, 32, 3)\n",
      "50000 train samples\n",
      "10000 test samples\n",
      "(73257, 32, 32, 3)\n",
      "(26032, 32, 32, 3)\n",
      "x_train shape: (73257, 32, 32, 3)\n",
      "73257 train samples\n",
      "26032 test samples\n",
      "{'bandwidth': 0.6586206896551724}\n",
      "{'bandwidth': 1.0}\n",
      "{'bandwidth': 1.0}\n",
      "{'bandwidth': 1.0}\n",
      "{'bandwidth': 0.4724137931034482}\n",
      "{'bandwidth': 0.6275862068965516}\n",
      "{'bandwidth': 1.0}\n",
      "{'bandwidth': 0.596551724137931}\n",
      "{'bandwidth': 1.0}\n",
      "{'bandwidth': 1.0}\n",
      "number of monitors 10\n"
     ]
    }
   ],
   "source": [
    "# ID dataset\n",
    "import utils\n",
    "num_samples = None\n",
    "(X_train, y_train), (X_test, y_test) = utils.load_data(id_dataset, num_samples)\n",
    "\n",
    "# OOD dataset\n",
    "(ood_X_train, ood_y_train), (ood_X_test, ood_y_test) = utils.load_data(ood_dataset, num_samples)\n",
    "\n",
    "#building monitor with ID data\n",
    "monitor_shine = SHINE_monitor(id_dataset)\n",
    "monitor_shine.fit(X_train, y_train)\n",
    "\n",
    "print('number of monitors',len(monitor_shine.arr_density))"
   ]
  },
  {
   "cell_type": "code",
   "execution_count": null,
   "id": "3f0e2445",
   "metadata": {},
   "outputs": [],
   "source": []
  },
  {
   "cell_type": "code",
   "execution_count": 13,
   "id": "0a70211e",
   "metadata": {},
   "outputs": [],
   "source": []
  },
  {
   "cell_type": "code",
   "execution_count": null,
   "id": "52feb85e",
   "metadata": {},
   "outputs": [],
   "source": []
  },
  {
   "cell_type": "code",
   "execution_count": 11,
   "id": "2b9bfd0e",
   "metadata": {},
   "outputs": [
    {
     "name": "stderr",
     "output_type": "stream",
     "text": [
      "100%|██████████████████████████████████████| 1000/1000 [00:01<00:00, 665.15it/s]\n"
     ]
    },
    {
     "name": "stdout",
     "output_type": "stream",
     "text": [
      "(1000, 10, 3, 32, 32) (0,) (10000,)\n",
      "(10000, 32, 32, 3) (0,) (10000,)\n"
     ]
    }
   ],
   "source": [
    "from tqdm import tqdm\n",
    "\n",
    "X, y = [],[]\n",
    "\n",
    "for data in tqdm(dataset_test.dataloader):\n",
    "    X.append(data[0].numpy())\n",
    "    #y.append(data[1].numpy())\n",
    "    \n",
    "X = np.array(X)\n",
    "#y = np.array(y)\n",
    "print(np.shape(X), np.shape(y), np.shape(pred_test))\n",
    "\n",
    "X = np.reshape(X, (batch_size*X.shape[0], X.shape[3], X.shape[4], X.shape[2]))\n",
    "#y = np.reshape(y, batch_size*y.shape[0])\n",
    "\n",
    "print(np.shape(X), np.shape(y), np.shape(pred_test))\n",
    "\n",
    "#testing ID\n",
    "arr_score_ID = []\n",
    "\n",
    "for x, pred in zip(X, pred_test):\n",
    "    is_ood, pdf = monitor_shine.predict(np.array([x]), pred)\n",
    "    arr_score_ID.append(pdf)\n"
   ]
  },
  {
   "cell_type": "code",
   "execution_count": 12,
   "id": "4968dbe8",
   "metadata": {},
   "outputs": [
    {
     "name": "stderr",
     "output_type": "stream",
     "text": [
      "100%|███████████████████████████████████████| 2604/2604 [00:45<00:00, 57.42it/s]\n"
     ]
    }
   ],
   "source": [
    "X_ood, y_ood = [],[]\n",
    "arr_score_OOD = []\n",
    "#testing OOD\n",
    "for data in tqdm(dataset_ood.dataloader):\n",
    "    X = data[0].numpy()\n",
    "    X = np.reshape(X, (X.shape[0], X.shape[2], X.shape[3], X.shape[1]))\n",
    "    \n",
    "    #y = data[1].numpy()\n",
    "    #y = np.reshape(y, y.shape[0])   \n",
    "    \n",
    "    for x, pred in zip(X, pred_ood):\n",
    "        is_ood, pdf = monitor_shine.predict(np.array([x]), pred)\n",
    "        arr_score_OOD.append(pdf)\n"
   ]
  },
  {
   "cell_type": "code",
   "execution_count": 13,
   "id": "62315b25",
   "metadata": {},
   "outputs": [
    {
     "name": "stdout",
     "output_type": "stream",
     "text": [
      "SHINE\n",
      "mahalanobis\n"
     ]
    },
    {
     "ename": "NameError",
     "evalue": "name 'scores_test_mahalanobis' is not defined",
     "output_type": "error",
     "traceback": [
      "\u001b[0;31m---------------------------------------------------------------------------\u001b[0m",
      "\u001b[0;31mNameError\u001b[0m                                 Traceback (most recent call last)",
      "Input \u001b[0;32mIn [13]\u001b[0m, in \u001b[0;36m<cell line: 8>\u001b[0;34m()\u001b[0m\n\u001b[1;32m      5\u001b[0m evaluation\u001b[38;5;241m.\u001b[39mplot_roc_curve(np\u001b[38;5;241m.\u001b[39marray(arr_score_ID), np\u001b[38;5;241m.\u001b[39marray(arr_score_OOD))\n\u001b[1;32m      7\u001b[0m \u001b[38;5;28mprint\u001b[39m(\u001b[38;5;124m'\u001b[39m\u001b[38;5;124mmahalanobis\u001b[39m\u001b[38;5;124m'\u001b[39m)\n\u001b[0;32m----> 8\u001b[0m evaluation\u001b[38;5;241m.\u001b[39mplot_roc_curve(\u001b[43mscores_test_mahalanobis\u001b[49m, scores_ood_mahalanobis)\n",
      "\u001b[0;31mNameError\u001b[0m: name 'scores_test_mahalanobis' is not defined"
     ]
    },
    {
     "data": {
      "image/png": "[encoded data removed]",
      "text/plain": [
       "<Figure size 432x288 with 1 Axes>"
      ]
     },
     "metadata": {
      "needs_background": "light"
     },
     "output_type": "display_data"
    }
   ],
   "source": [
    "import evaluation\n",
    "#metrics\n",
    "\n",
    "print('SHINE')\n",
    "evaluation.plot_roc_curve(np.array(arr_score_ID), np.array(arr_score_OOD))\n",
    "\n",
    "print('mahalanobis')\n",
    "evaluation.plot_roc_curve(scores_test_mahalanobis, scores_ood_mahalanobis)"
   ]
  },
  {
   "cell_type": "code",
   "execution_count": 14,
   "id": "d50cde27",
   "metadata": {},
   "outputs": [
    {
     "name": "stdout",
     "output_type": "stream",
     "text": [
      "SHINE\n",
      "        Precision   Recall   F1\n",
      "OOD:    0.9179      0.3633   0.5205\n",
      "OMS:    0.9230      0.3566   0.5145\n"
     ]
    }
   ],
   "source": [
    "arr_score_ID = np.array(arr_score_ID)\n",
    "arr_score_OOD = np.array(arr_score_OOD)\n",
    "precision_ood_shine, recall_ood_shine, f1_ood_shine = eval_ood.get_metrics(arr_score_ID.astype(bool), \n",
    "                                                                        arr_score_OOD.astype(bool))\n",
    "precision_oms_shine, recall_oms_shine, f1_oms_shine = eval_oms.get_metrics(arr_score_ID.astype(bool), \n",
    "                                                                        arr_score_OOD.astype(bool))\n",
    "\n",
    "print(\"SHINE\")\n",
    "print(\"       \", \"Precision \", \" Recall \", \" F1\")\n",
    "print(\"OOD:   \", \"{:.4f}\".format(precision_ood_shine), \"    \", \"{:.4f}\".format(recall_ood_shine), \n",
    "      \" \", \"{:.4f}\".format(f1_ood_shine))\n",
    "print(\"OMS:   \", \"{:.4f}\".format(precision_oms_shine), \"    \", \"{:.4f}\".format(recall_oms_shine), \n",
    "      \" \", \"{:.4f}\".format(f1_oms_shine))"
   ]
  },
  {
   "cell_type": "code",
   "execution_count": null,
   "id": "0f937c95",
   "metadata": {},
   "outputs": [],
   "source": [
    "\n",
    "\n"
   ]
  },
  {
   "cell_type": "code",
   "execution_count": null,
   "id": "f8b25e68",
   "metadata": {},
   "outputs": [],
   "source": []
  },
  {
   "cell_type": "code",
   "execution_count": 23,
   "id": "ade08f97",
   "metadata": {},
   "outputs": [],
   "source": [
    "# looping through all monitored classes\n",
    "monitored_classes = [i for i in range(10)]\n",
    "\n",
    "# scores for each monitored class\n",
    "arr_pred_test_per_class, arr_pred_ood_per_class = {}, {}\n",
    "\n",
    "for monitored_class in monitored_classes:\n",
    "    # we will then monitor the predicted class from the ML model\n",
    "    predicted_ML = [monitored_class]*len(ood_X_test)\n",
    "    \n",
    "    arr_pred_test, arr_pred_ood = [], []\n",
    "    \n",
    "    for x, y_true, pred in zip(X_test, y_test, predicted_ML):\n",
    "        if y_true == monitored_class:\n",
    "            is_ood, shine_score = monitor_shine.predict(np.array([x]), pred)    \n",
    "            arr_pred_test.append(is_ood)\n",
    "            \n",
    "    arr_pred_test_per_class.update({monitored_class: np.array(arr_pred_test)})\n",
    "\n",
    "    for x, pred in zip(ood_X_test, predicted_ML):\n",
    "        is_ood, shine_score = monitor_shine.predict(np.array([x]), pred)    \n",
    "        arr_pred_ood.append(is_ood)\n",
    "        \n",
    "    arr_pred_ood_per_class.update({monitored_class: np.array(arr_pred_ood)})"
   ]
  },
  {
   "cell_type": "code",
   "execution_count": 11,
   "id": "41f3b8e7",
   "metadata": {},
   "outputs": [
    {
     "name": "stdout",
     "output_type": "stream",
     "text": [
      "0.999\n"
     ]
    }
   ],
   "source": [
    "from sklearn.metrics import accuracy_score, balanced_accuracy_score, matthews_corrcoef\n",
    "\n",
    "# converting the labels from test dataset to the format 1 and 0\n",
    "y_true = utils.convert_ood_labels(ood_y_test)\n",
    "# printing balanced accuracy\n",
    "acc = balanced_accuracy_score(y_true, arr_pred_ood)\n",
    "print(acc)"
   ]
  },
  {
   "cell_type": "code",
   "execution_count": 24,
   "id": "04b6c490",
   "metadata": {},
   "outputs": [
    {
     "name": "stdout",
     "output_type": "stream",
     "text": [
      "Shine when monitoring the class 0\n",
      "        Precision   Recall   F1\n",
      "OOD:    0.9766      0.9907   0.9836\n",
      "Shine when monitoring the class 1\n",
      "        Precision   Recall   F1\n",
      "OOD:    0.9630      1.0000   0.9812\n",
      "Shine when monitoring the class 2\n",
      "        Precision   Recall   F1\n",
      "OOD:    0.9630      1.0000   0.9812\n",
      "Shine when monitoring the class 3\n",
      "        Precision   Recall   F1\n",
      "OOD:    0.9630      1.0000   0.9812\n",
      "Shine when monitoring the class 4\n",
      "        Precision   Recall   F1\n",
      "OOD:    0.9811      0.9993   0.9901\n",
      "Shine when monitoring the class 5\n",
      "        Precision   Recall   F1\n",
      "OOD:    0.9780      0.9977   0.9878\n",
      "Shine when monitoring the class 6\n",
      "        Precision   Recall   F1\n",
      "OOD:    0.9630      1.0000   0.9812\n",
      "Shine when monitoring the class 7\n",
      "        Precision   Recall   F1\n",
      "OOD:    0.9784      0.9996   0.9889\n",
      "Shine when monitoring the class 8\n",
      "        Precision   Recall   F1\n",
      "OOD:    0.9630      1.0000   0.9812\n",
      "Shine when monitoring the class 9\n",
      "        Precision   Recall   F1\n",
      "OOD:    0.9630      1.0000   0.9812\n"
     ]
    }
   ],
   "source": [
    "#eval_oms = Evaluator(\"oms\", is_novelty=(id_dataset!=ood_dataset))\n",
    "eval_ood = Evaluator(\"ood\", is_novelty=(id_dataset!=ood_dataset))\n",
    "\n",
    "for monitored_class in monitored_classes:\n",
    "    arr_pred_test, arr_pred_ood = arr_pred_test_per_class[monitored_class], arr_pred_ood_per_class[monitored_class]\n",
    "    #eval_oms.fit_ground_truth(y_test, ood_y_test, arr_pred_test, arr_pred_ood)\n",
    "    eval_ood.fit_ground_truth(y_test[y_test==monitored_class], ood_y_test, arr_pred_test, arr_pred_ood)\n",
    "\n",
    "    precision_ood_shine, recall_ood_shine, f1_ood_shine = eval_ood.get_metrics(arr_pred_test.astype(bool), \n",
    "                                                                            arr_pred_ood.astype(bool))\n",
    "    #precision_oms_shine, recall_oms_shine, f1_oms_shine = eval_oms.get_metrics(scores_test_shine, \n",
    "    #                                                                        scores_ood_shine)\n",
    "\n",
    "    print(\"Shine when monitoring the class\", monitored_class)\n",
    "    print(\"       \", \"Precision \", \" Recall \", \" F1\")\n",
    "    print(\"OOD:   \", \"{:.4f}\".format(precision_ood_shine), \"    \", \"{:.4f}\".format(recall_ood_shine), \n",
    "          \" \", \"{:.4f}\".format(f1_ood_shine))\n",
    "    #print(\"OMS:   \", \"{:.4f}\".format(precision_oms_shine), \"    \", \"{:.4f}\".format(recall_oms_shine), \n",
    "    #      \" \", \"{:.4f}\".format(f1_oms_shine))"
   ]
  },
  {
   "cell_type": "code",
   "execution_count": 16,
   "id": "722eb017",
   "metadata": {},
   "outputs": [
    {
     "name": "stdout",
     "output_type": "stream",
     "text": [
      "Shine\n",
      "        Precision   Recall   F1\n",
      "OOD:    0.9115      0.9990   0.9532\n"
     ]
    }
   ],
   "source": []
  },
  {
   "cell_type": "code",
   "execution_count": null,
   "id": "01e6362b",
   "metadata": {},
   "outputs": [],
   "source": []
  },
  {
   "cell_type": "code",
   "execution_count": 19,
   "id": "bacee73b",
   "metadata": {},
   "outputs": [
    {
     "name": "stdout",
     "output_type": "stream",
     "text": [
      "Outside the box\n",
      "        Precision   Recall   F1\n",
      "OOD:    0.7860      0.5971   0.6787\n",
      "OMS:    0.4255      0.8458   0.5662\n"
     ]
    }
   ],
   "source": [
    "monitor_oob = OutsideTheBoxMonitor(n_clusters=10)\n",
    "monitor_oob.fit(features_train[id_layer_monitored], lab_train)\n",
    "\n",
    "scores_oob_test = monitor_oob.predict(features_test[id_layer_monitored], pred_test)\n",
    "scores_oob_ood = monitor_oob.predict(features_ood[id_layer_monitored], pred_ood)\n",
    "\n",
    "precision_ood_oob, recall_ood_oob, f1_ood_oob = eval_ood.get_metrics(scores_oob_test, scores_oob_ood)\n",
    "precision_oms_oob, recall_oms_oob, f1_oms_oob = eval_oms.get_metrics(scores_oob_test, scores_oob_ood)\n",
    "\n",
    "print(\"Outside the box\")\n",
    "print(\"       \", \"Precision \", \" Recall \", \" F1\")\n",
    "print(\"OOD:   \", \"{:.4f}\".format(precision_ood_oob), \"    \", \"{:.4f}\".format(recall_ood_oob), \n",
    "      \" \", \"{:.4f}\".format(f1_ood_oob))\n",
    "print(\"OMS:   \", \"{:.4f}\".format(precision_oms_oob), \"    \", \"{:.4f}\".format(recall_oms_oob), \n",
    "      \" \", \"{:.4f}\".format(f1_oms_oob))"
   ]
  },
  {
   "cell_type": "code",
   "execution_count": null,
   "id": "5a4e661a",
   "metadata": {},
   "outputs": [],
   "source": []
  },
  {
   "cell_type": "code",
   "execution_count": 27,
   "id": "53a713a7",
   "metadata": {},
   "outputs": [
    {
     "name": "stdout",
     "output_type": "stream",
     "text": [
      "getting optimal threshold...\n",
      "getting optimal threshold...\n",
      "Max Softmax Probability\n",
      "        Precision   Recall   F1\n",
      "OOD:    0.8986      0.9615   0.9290\n",
      "OMS:    0.9199      0.9610   0.9400\n"
     ]
    }
   ],
   "source": [
    "monitor_msp = MaxSoftmaxProbabilityMonitor()\n",
    "monitor_msp.fit()\n",
    "\n",
    "scores_test_msp = monitor_msp.predict(softmax_test) \n",
    "scores_ood_msp = monitor_msp.predict(softmax_ood) \n",
    "\n",
    "precision_ood_msp, recall_ood_msp, f1_ood_msp = eval_ood.get_metrics(scores_test_msp, scores_ood_msp,)\n",
    "precision_oms_msp, recall_oms_msp, f1_oms_msp = eval_oms.get_metrics(scores_test_msp, scores_ood_msp,)\n",
    "\n",
    "print(\"Max Softmax Probability\")\n",
    "print(\"       \", \"Precision \", \" Recall \", \" F1\")\n",
    "print(\"OOD:   \", \"{:.4f}\".format(precision_ood_msp), \"    \", \"{:.4f}\".format(recall_ood_msp), \n",
    "      \" \", \"{:.4f}\".format(f1_ood_msp))\n",
    "print(\"OMS:   \", \"{:.4f}\".format(precision_oms_msp), \"    \", \"{:.4f}\".format(recall_oms_msp), \n",
    "      \" \", \"{:.4f}\".format(f1_oms_msp))"
   ]
  },
  {
   "cell_type": "code",
   "execution_count": null,
   "id": "3751c099",
   "metadata": {},
   "outputs": [],
   "source": []
  },
  {
   "cell_type": "code",
   "execution_count": 21,
   "id": "b3cad489",
   "metadata": {},
   "outputs": [
    {
     "name": "stdout",
     "output_type": "stream",
     "text": [
      "ReAct MSP\n",
      "        Precision   Recall   F1\n",
      "OOD:    0.6015      0.7833   0.6804\n",
      "OMS:    0.6878      0.8390   0.7559\n"
     ]
    }
   ],
   "source": [
    "monitor_react = ReActMonitor(quantile_value=0.99, mode=\"msp\")\n",
    "monitor_react.fit(feature_extractor, features_train[-1])\n",
    "\n",
    "scores_test_react = monitor_react.predict(features_test[-1])\n",
    "scores_ood_react = monitor_react.predict(features_ood[-1])\n",
    "\n",
    "precision_ood_react_msp, recall_ood_react_msp, f1_ood_react_msp = eval_ood.get_metrics(scores_test_react, \n",
    "                                                                                       scores_ood_react)\n",
    "precision_oms_react_msp, recall_oms_react_msp, f1_oms_react_msp = eval_oms.get_metrics(scores_test_react, \n",
    "                                                                                       scores_ood_react)\n",
    "\n",
    "print(\"ReAct MSP\")\n",
    "print(\"       \", \"Precision \", \" Recall \", \" F1\")\n",
    "print(\"OOD:   \", \"{:.4f}\".format(precision_ood_react_msp), \"    \", \"{:.4f}\".format(recall_ood_react_msp), \n",
    "      \" \", \"{:.4f}\".format(f1_ood_react_msp))\n",
    "print(\"OMS:   \", \"{:.4f}\".format(precision_oms_react_msp), \"    \", \"{:.4f}\".format(recall_oms_react_msp), \n",
    "      \" \", \"{:.4f}\".format(f1_oms_react_msp))"
   ]
  },
  {
   "cell_type": "code",
   "execution_count": null,
   "id": "db35a8f3",
   "metadata": {},
   "outputs": [],
   "source": []
  },
  {
   "cell_type": "code",
   "execution_count": 22,
   "id": "43832d73",
   "metadata": {},
   "outputs": [
    {
     "name": "stdout",
     "output_type": "stream",
     "text": [
      "Max Logit\n",
      "        Precision   Recall   F1\n",
      "OOD:    0.6220      0.7450   0.6780\n",
      "OMS:    0.6982      0.8156   0.7523\n"
     ]
    }
   ],
   "source": [
    "monitor_maxlogits = MaxLogitMonitor()\n",
    "monitor_maxlogits.fit()\n",
    "\n",
    "scores_test_maxlogits = monitor_maxlogits.predict(logits_test) \n",
    "scores_ood_maxlogits = monitor_maxlogits.predict(logits_ood) \n",
    "\n",
    "precision_ood, recall_ood, f1_ood = eval_ood.get_metrics(scores_test_maxlogits, scores_ood_maxlogits)\n",
    "precision_oms, recall_oms, f1_oms = eval_oms.get_metrics(scores_test_maxlogits, scores_ood_maxlogits)\n",
    "\n",
    "print(\"Max Logit\")\n",
    "print(\"       \", \"Precision \", \" Recall \", \" F1\")\n",
    "print(\"OOD:   \", \"{:.4f}\".format(precision_ood), \"    \", \"{:.4f}\".format(recall_ood), \" \", \"{:.4f}\".format(f1_ood))\n",
    "print(\"OMS:   \", \"{:.4f}\".format(precision_oms), \"    \", \"{:.4f}\".format(recall_oms), \" \", \"{:.4f}\".format(f1_oms))"
   ]
  },
  {
   "cell_type": "code",
   "execution_count": null,
   "id": "b1af7e75",
   "metadata": {},
   "outputs": [],
   "source": []
  },
  {
   "cell_type": "code",
   "execution_count": 23,
   "id": "7c35758a",
   "metadata": {},
   "outputs": [
    {
     "name": "stdout",
     "output_type": "stream",
     "text": [
      "Energy\n",
      "        Precision   Recall   F1\n",
      "OOD:    0.6219      0.7451   0.6780\n",
      "OMS:    0.7000      0.8133   0.7524\n"
     ]
    }
   ],
   "source": [
    "T = 1\n",
    "\n",
    "monitor_energy = EnergyMonitor(temperature=T)\n",
    "monitor_energy.fit()\n",
    "\n",
    "scores_test_energy = monitor_energy.predict(logits_test)\n",
    "scores_ood_energy = monitor_energy.predict(logits_ood)\n",
    "\n",
    "precision_ood_energy, recall_ood_energy, f1_ood_energy = eval_ood.get_metrics(scores_test_energy, scores_ood_energy)\n",
    "precision_oms_energy, recall_oms_energy, f1_oms_energy = eval_oms.get_metrics(scores_test_energy, scores_ood_energy)\n",
    "\n",
    "print(\"Energy\")\n",
    "print(\"       \", \"Precision \", \" Recall \", \" F1\")\n",
    "print(\"OOD:   \", \"{:.4f}\".format(precision_ood_energy), \"    \", \"{:.4f}\".format(recall_ood_energy), \n",
    "      \" \", \"{:.4f}\".format(f1_ood_energy))\n",
    "print(\"OMS:   \", \"{:.4f}\".format(precision_oms_energy), \"    \", \"{:.4f}\".format(recall_oms_energy), \n",
    "      \" \", \"{:.4f}\".format(f1_oms_energy))"
   ]
  },
  {
   "cell_type": "code",
   "execution_count": null,
   "id": "547534ba",
   "metadata": {},
   "outputs": [],
   "source": []
  },
  {
   "cell_type": "code",
   "execution_count": 24,
   "id": "d2f81a5c",
   "metadata": {},
   "outputs": [
    {
     "name": "stdout",
     "output_type": "stream",
     "text": [
      "ReAct Energy\n",
      "        Precision   Recall   F1\n",
      "OOD:    0.6059      0.7678   0.6773\n",
      "OMS:    0.7028      0.8208   0.7572\n"
     ]
    }
   ],
   "source": [
    "monitor_react = ReActMonitor(quantile_value=0.99)\n",
    "monitor_react.fit(feature_extractor, features_train[-1])\n",
    "\n",
    "scores_test_react = monitor_react.predict(features_test[-1])\n",
    "scores_ood_react = monitor_react.predict(features_ood[-1])\n",
    "\n",
    "precision_ood_react_ene, recall_ood_react_ene, f1_ood_react_ene = eval_ood.get_metrics(scores_test_react, \n",
    "                                                                                       scores_ood_react)\n",
    "precision_oms_react_ene, recall_oms_react_ene, f1_oms_react_ene = eval_oms.get_metrics(scores_test_react, \n",
    "                                                                                       scores_ood_react)\n",
    "\n",
    "print(\"ReAct Energy\")\n",
    "print(\"       \", \"Precision \", \" Recall \", \" F1\")\n",
    "print(\"OOD:   \", \"{:.4f}\".format(precision_ood_react_ene), \"    \", \"{:.4f}\".format(recall_ood_react_ene), \n",
    "      \" \", \"{:.4f}\".format(f1_ood_react_ene))\n",
    "print(\"OMS:   \", \"{:.4f}\".format(precision_oms_react_ene), \"    \", \"{:.4f}\".format(recall_oms_react_ene), \n",
    "      \" \", \"{:.4f}\".format(f1_oms_react_ene))"
   ]
  },
  {
   "cell_type": "code",
   "execution_count": null,
   "id": "a17c402d",
   "metadata": {},
   "outputs": [],
   "source": []
  }
 ],
 "metadata": {
  "kernelspec": {
   "display_name": "Python 3",
   "language": "python",
   "name": "python3"
  },
  "language_info": {
   "codemirror_mode": {
    "name": "ipython",
    "version": 3
   },
   "file_extension": ".py",
   "mimetype": "text/x-python",
   "name": "python",
   "nbconvert_exporter": "python",
   "pygments_lexer": "ipython3",
   "version": "3.10.4"
  }
 },
 "nbformat": 4,
 "nbformat_minor": 5
}
